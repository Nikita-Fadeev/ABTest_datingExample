{
 "cells": [
  {
   "cell_type": "code",
   "execution_count": 4,
   "id": "0d6552a7-b6ee-4c5f-8c0b-ea6505de9c6a",
   "metadata": {},
   "outputs": [],
   "source": [
    "import pandas as pd, numpy as np\n",
    "PATH = './data/'"
   ]
  },
  {
   "cell_type": "code",
   "execution_count": 10,
   "id": "44912fbb-f8ca-4d60-82fc-a21a203eef88",
   "metadata": {},
   "outputs": [],
   "source": [
    "users_testDF = pd.read_csv(PATH + 'Проект_3_users_test.csv', sep = ';',on_bad_lines='warn')"
   ]
  },
  {
   "cell_type": "code",
   "execution_count": null,
   "id": "9a6a5eac-7d27-431c-abc7-0d28579a3955",
   "metadata": {},
   "outputs": [],
   "source": []
  }
 ],
 "metadata": {
  "kernelspec": {
   "display_name": "Python 3 (ipykernel)",
   "language": "python",
   "name": "python3"
  },
  "language_info": {
   "codemirror_mode": {
    "name": "ipython",
    "version": 3
   },
   "file_extension": ".py",
   "mimetype": "text/x-python",
   "name": "python",
   "nbconvert_exporter": "python",
   "pygments_lexer": "ipython3",
   "version": "3.11.8"
  }
 },
 "nbformat": 4,
 "nbformat_minor": 5
}
